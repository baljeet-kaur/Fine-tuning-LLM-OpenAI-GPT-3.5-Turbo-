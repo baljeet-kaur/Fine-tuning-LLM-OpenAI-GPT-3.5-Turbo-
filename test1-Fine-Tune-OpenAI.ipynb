{
 "cells": [
  {
   "cell_type": "code",
   "execution_count": 1,
   "id": "01dadbe9-9819-45db-9c26-f9d699050210",
   "metadata": {},
   "outputs": [
    {
     "data": {
      "text/plain": [
       "True"
      ]
     },
     "execution_count": 1,
     "metadata": {},
     "output_type": "execute_result"
    }
   ],
   "source": [
    "import json\n",
    "from pathlib import Path\n",
    "from typing import List\n",
    "\n",
    "\n",
    "from dotenv import load_dotenv\n",
    "from openai import OpenAI\n",
    "\n",
    "load_dotenv()  # Load environment variables from .env file\n"
   ]
  },
  {
   "cell_type": "code",
   "execution_count": null,
   "id": "924817ad-c3b7-456f-801b-846443c3cf3b",
   "metadata": {},
   "outputs": [],
   "source": []
  },
  {
   "cell_type": "code",
   "execution_count": 2,
   "id": "05c3ed0a-46da-4657-9eef-d9325e4210df",
   "metadata": {},
   "outputs": [],
   "source": [
    "import pandas as pd\n",
    "import openai\n"
   ]
  },
  {
   "cell_type": "code",
   "execution_count": 3,
   "id": "3b6fbc07-4e5e-4fa0-8a5f-3251bbf0b889",
   "metadata": {},
   "outputs": [],
   "source": [
    "# Training CSV File\n",
    "train_csv1 = pd.read_csv('../data/train.csv')"
   ]
  },
  {
   "cell_type": "code",
   "execution_count": 4,
   "id": "78e9a17f-af1f-4e6a-87a0-7a619b39e7e0",
   "metadata": {},
   "outputs": [],
   "source": [
    "test_csv = pd.read_csv('../data/test.csv')"
   ]
  },
  {
   "cell_type": "code",
   "execution_count": 5,
   "id": "d8929137-e180-451d-9690-730045f2cefe",
   "metadata": {},
   "outputs": [
    {
     "data": {
      "text/html": [
       "<div>\n",
       "<style scoped>\n",
       "    .dataframe tbody tr th:only-of-type {\n",
       "        vertical-align: middle;\n",
       "    }\n",
       "\n",
       "    .dataframe tbody tr th {\n",
       "        vertical-align: top;\n",
       "    }\n",
       "\n",
       "    .dataframe thead th {\n",
       "        text-align: right;\n",
       "    }\n",
       "</style>\n",
       "<table border=\"1\" class=\"dataframe\">\n",
       "  <thead>\n",
       "    <tr style=\"text-align: right;\">\n",
       "      <th></th>\n",
       "      <th>id</th>\n",
       "      <th>text</th>\n",
       "      <th>label_text</th>\n",
       "    </tr>\n",
       "  </thead>\n",
       "  <tbody>\n",
       "    <tr>\n",
       "      <th>0</th>\n",
       "      <td>1</td>\n",
       "      <td>I already made a transfer and want to cancel i...</td>\n",
       "      <td>cancel_transfer</td>\n",
       "    </tr>\n",
       "    <tr>\n",
       "      <th>1</th>\n",
       "      <td>2</td>\n",
       "      <td>I don't think I made this payment that is show...</td>\n",
       "      <td>card_payment_not_recognised</td>\n",
       "    </tr>\n",
       "    <tr>\n",
       "      <th>2</th>\n",
       "      <td>3</td>\n",
       "      <td>You seem to forget there are so called \"rights...</td>\n",
       "      <td>not toxic</td>\n",
       "    </tr>\n",
       "    <tr>\n",
       "      <th>3</th>\n",
       "      <td>4</td>\n",
       "      <td>play the fifty songs i listen to most often</td>\n",
       "      <td>play_music</td>\n",
       "    </tr>\n",
       "    <tr>\n",
       "      <th>4</th>\n",
       "      <td>5</td>\n",
       "      <td>please make the smart socket turn off</td>\n",
       "      <td>iot</td>\n",
       "    </tr>\n",
       "  </tbody>\n",
       "</table>\n",
       "</div>"
      ],
      "text/plain": [
       "   id                                               text  \\\n",
       "0   1  I already made a transfer and want to cancel i...   \n",
       "1   2  I don't think I made this payment that is show...   \n",
       "2   3  You seem to forget there are so called \"rights...   \n",
       "3   4        play the fifty songs i listen to most often   \n",
       "4   5              please make the smart socket turn off   \n",
       "\n",
       "                    label_text  \n",
       "0              cancel_transfer  \n",
       "1  card_payment_not_recognised  \n",
       "2                    not toxic  \n",
       "3                   play_music  \n",
       "4                          iot  "
      ]
     },
     "execution_count": 5,
     "metadata": {},
     "output_type": "execute_result"
    }
   ],
   "source": [
    "train_csv1.head()\n"
   ]
  },
  {
   "cell_type": "code",
   "execution_count": 6,
   "id": "5c3e7b54-4529-4c91-b719-1cb4a7d6aae2",
   "metadata": {},
   "outputs": [
    {
     "data": {
      "text/plain": [
       "(7994, 3)"
      ]
     },
     "execution_count": 6,
     "metadata": {},
     "output_type": "execute_result"
    }
   ],
   "source": [
    "train_csv1.shape"
   ]
  },
  {
   "cell_type": "code",
   "execution_count": 7,
   "id": "d651c385-5461-440c-88e7-839b8a1debac",
   "metadata": {},
   "outputs": [
    {
     "data": {
      "text/html": [
       "<div>\n",
       "<style scoped>\n",
       "    .dataframe tbody tr th:only-of-type {\n",
       "        vertical-align: middle;\n",
       "    }\n",
       "\n",
       "    .dataframe tbody tr th {\n",
       "        vertical-align: top;\n",
       "    }\n",
       "\n",
       "    .dataframe thead th {\n",
       "        text-align: right;\n",
       "    }\n",
       "</style>\n",
       "<table border=\"1\" class=\"dataframe\">\n",
       "  <thead>\n",
       "    <tr style=\"text-align: right;\">\n",
       "      <th></th>\n",
       "      <th>count</th>\n",
       "    </tr>\n",
       "    <tr>\n",
       "      <th>label_text</th>\n",
       "      <th></th>\n",
       "    </tr>\n",
       "  </thead>\n",
       "  <tbody>\n",
       "    <tr>\n",
       "      <th>not toxic</th>\n",
       "      <td>1842</td>\n",
       "    </tr>\n",
       "    <tr>\n",
       "      <th>iot</th>\n",
       "      <td>374</td>\n",
       "    </tr>\n",
       "    <tr>\n",
       "      <th>play</th>\n",
       "      <td>291</td>\n",
       "    </tr>\n",
       "    <tr>\n",
       "      <th>play_music</th>\n",
       "      <td>288</td>\n",
       "    </tr>\n",
       "    <tr>\n",
       "      <th>weather</th>\n",
       "      <td>260</td>\n",
       "    </tr>\n",
       "    <tr>\n",
       "      <th>weather_query</th>\n",
       "      <td>260</td>\n",
       "    </tr>\n",
       "    <tr>\n",
       "      <th>news_query</th>\n",
       "      <td>212</td>\n",
       "    </tr>\n",
       "    <tr>\n",
       "      <th>news</th>\n",
       "      <td>212</td>\n",
       "    </tr>\n",
       "    <tr>\n",
       "      <th>datetime</th>\n",
       "      <td>191</td>\n",
       "    </tr>\n",
       "    <tr>\n",
       "      <th>alarm</th>\n",
       "      <td>167</td>\n",
       "    </tr>\n",
       "    <tr>\n",
       "      <th>datetime_query</th>\n",
       "      <td>167</td>\n",
       "    </tr>\n",
       "    <tr>\n",
       "      <th>music</th>\n",
       "      <td>162</td>\n",
       "    </tr>\n",
       "    <tr>\n",
       "      <th>toxic</th>\n",
       "      <td>158</td>\n",
       "    </tr>\n",
       "    <tr>\n",
       "      <th>audio</th>\n",
       "      <td>143</td>\n",
       "    </tr>\n",
       "    <tr>\n",
       "      <th>takeaway</th>\n",
       "      <td>127</td>\n",
       "    </tr>\n",
       "    <tr>\n",
       "      <th>balance_not_updated_after_cheque_or_cash_deposit</th>\n",
       "      <td>94</td>\n",
       "    </tr>\n",
       "    <tr>\n",
       "      <th>wrong_amount_of_cash_received</th>\n",
       "      <td>85</td>\n",
       "    </tr>\n",
       "    <tr>\n",
       "      <th>card_payment_wrong_exchange_rate</th>\n",
       "      <td>84</td>\n",
       "    </tr>\n",
       "    <tr>\n",
       "      <th>card_payment_fee_charged</th>\n",
       "      <td>83</td>\n",
       "    </tr>\n",
       "    <tr>\n",
       "      <th>card_payment_not_recognised</th>\n",
       "      <td>83</td>\n",
       "    </tr>\n",
       "    <tr>\n",
       "      <th>extra_charge_on_statement</th>\n",
       "      <td>81</td>\n",
       "    </tr>\n",
       "    <tr>\n",
       "      <th>transfer_not_received_by_recipient</th>\n",
       "      <td>80</td>\n",
       "    </tr>\n",
       "    <tr>\n",
       "      <th>card_arrival</th>\n",
       "      <td>80</td>\n",
       "    </tr>\n",
       "    <tr>\n",
       "      <th>alarm_set</th>\n",
       "      <td>75</td>\n",
       "    </tr>\n",
       "    <tr>\n",
       "      <th>pending_cash_withdrawal</th>\n",
       "      <td>74</td>\n",
       "    </tr>\n",
       "    <tr>\n",
       "      <th>card_linking</th>\n",
       "      <td>72</td>\n",
       "    </tr>\n",
       "    <tr>\n",
       "      <th>pending_top_up</th>\n",
       "      <td>72</td>\n",
       "    </tr>\n",
       "    <tr>\n",
       "      <th>cancel_transfer</th>\n",
       "      <td>72</td>\n",
       "    </tr>\n",
       "    <tr>\n",
       "      <th>music_query</th>\n",
       "      <td>72</td>\n",
       "    </tr>\n",
       "    <tr>\n",
       "      <th>supported_cards_and_currencies</th>\n",
       "      <td>71</td>\n",
       "    </tr>\n",
       "    <tr>\n",
       "      <th>iot_hue_lightoff</th>\n",
       "      <td>69</td>\n",
       "    </tr>\n",
       "    <tr>\n",
       "      <th>top_up_reverted</th>\n",
       "      <td>68</td>\n",
       "    </tr>\n",
       "    <tr>\n",
       "      <th>automatic_top_up</th>\n",
       "      <td>66</td>\n",
       "    </tr>\n",
       "    <tr>\n",
       "      <th>iot_hue_lightchange</th>\n",
       "      <td>65</td>\n",
       "    </tr>\n",
       "    <tr>\n",
       "      <th>takeaway_query</th>\n",
       "      <td>64</td>\n",
       "    </tr>\n",
       "    <tr>\n",
       "      <th>pin_blocked</th>\n",
       "      <td>63</td>\n",
       "    </tr>\n",
       "    <tr>\n",
       "      <th>takeaway_order</th>\n",
       "      <td>63</td>\n",
       "    </tr>\n",
       "    <tr>\n",
       "      <th>fiat_currency_support</th>\n",
       "      <td>62</td>\n",
       "    </tr>\n",
       "    <tr>\n",
       "      <th>exchange_rate</th>\n",
       "      <td>61</td>\n",
       "    </tr>\n",
       "    <tr>\n",
       "      <th>age_limit</th>\n",
       "      <td>60</td>\n",
       "    </tr>\n",
       "    <tr>\n",
       "      <th>edit_personal_details</th>\n",
       "      <td>60</td>\n",
       "    </tr>\n",
       "    <tr>\n",
       "      <th>card_not_working</th>\n",
       "      <td>59</td>\n",
       "    </tr>\n",
       "    <tr>\n",
       "      <th>general</th>\n",
       "      <td>59</td>\n",
       "    </tr>\n",
       "    <tr>\n",
       "      <th>why_verify_identity</th>\n",
       "      <td>59</td>\n",
       "    </tr>\n",
       "    <tr>\n",
       "      <th>audio_volume_up</th>\n",
       "      <td>58</td>\n",
       "    </tr>\n",
       "    <tr>\n",
       "      <th>top_up_by_bank_transfer_charge</th>\n",
       "      <td>58</td>\n",
       "    </tr>\n",
       "    <tr>\n",
       "      <th>alarm_query</th>\n",
       "      <td>57</td>\n",
       "    </tr>\n",
       "    <tr>\n",
       "      <th>exchange_via_app</th>\n",
       "      <td>56</td>\n",
       "    </tr>\n",
       "    <tr>\n",
       "      <th>iot_coffee</th>\n",
       "      <td>55</td>\n",
       "    </tr>\n",
       "    <tr>\n",
       "      <th>music_likeness</th>\n",
       "      <td>53</td>\n",
       "    </tr>\n",
       "    <tr>\n",
       "      <th>card_delivery_estimate</th>\n",
       "      <td>51</td>\n",
       "    </tr>\n",
       "    <tr>\n",
       "      <th>top_up_limits</th>\n",
       "      <td>51</td>\n",
       "    </tr>\n",
       "    <tr>\n",
       "      <th>unable_to_verify_identity</th>\n",
       "      <td>50</td>\n",
       "    </tr>\n",
       "    <tr>\n",
       "      <th>audio_volume_mute</th>\n",
       "      <td>50</td>\n",
       "    </tr>\n",
       "    <tr>\n",
       "      <th>iot_cleaning</th>\n",
       "      <td>47</td>\n",
       "    </tr>\n",
       "    <tr>\n",
       "      <th>iot_hue_lightup</th>\n",
       "      <td>44</td>\n",
       "    </tr>\n",
       "    <tr>\n",
       "      <th>getting_virtual_card</th>\n",
       "      <td>41</td>\n",
       "    </tr>\n",
       "    <tr>\n",
       "      <th>card_acceptance</th>\n",
       "      <td>39</td>\n",
       "    </tr>\n",
       "    <tr>\n",
       "      <th>lost_or_stolen_card</th>\n",
       "      <td>39</td>\n",
       "    </tr>\n",
       "    <tr>\n",
       "      <th>iot_hue_lightdim</th>\n",
       "      <td>38</td>\n",
       "    </tr>\n",
       "    <tr>\n",
       "      <th>alarm_remove</th>\n",
       "      <td>35</td>\n",
       "    </tr>\n",
       "    <tr>\n",
       "      <th>general_joke</th>\n",
       "      <td>30</td>\n",
       "    </tr>\n",
       "    <tr>\n",
       "      <th>music_settings</th>\n",
       "      <td>27</td>\n",
       "    </tr>\n",
       "    <tr>\n",
       "      <th>iot_wemo_off</th>\n",
       "      <td>25</td>\n",
       "    </tr>\n",
       "    <tr>\n",
       "      <th>iot_wemo_on</th>\n",
       "      <td>24</td>\n",
       "    </tr>\n",
       "    <tr>\n",
       "      <th>datetime_convert</th>\n",
       "      <td>24</td>\n",
       "    </tr>\n",
       "    <tr>\n",
       "      <th>audio_volume_down</th>\n",
       "      <td>24</td>\n",
       "    </tr>\n",
       "    <tr>\n",
       "      <th>contactless_not_working</th>\n",
       "      <td>23</td>\n",
       "    </tr>\n",
       "    <tr>\n",
       "      <th>general_quirky</th>\n",
       "      <td>17</td>\n",
       "    </tr>\n",
       "    <tr>\n",
       "      <th>general_greet</th>\n",
       "      <td>12</td>\n",
       "    </tr>\n",
       "    <tr>\n",
       "      <th>audio_volume_other</th>\n",
       "      <td>11</td>\n",
       "    </tr>\n",
       "    <tr>\n",
       "      <th>music_dislikeness</th>\n",
       "      <td>10</td>\n",
       "    </tr>\n",
       "    <tr>\n",
       "      <th>iot_hue_lighton</th>\n",
       "      <td>7</td>\n",
       "    </tr>\n",
       "    <tr>\n",
       "      <th>calendar_query</th>\n",
       "      <td>4</td>\n",
       "    </tr>\n",
       "    <tr>\n",
       "      <th>calendar</th>\n",
       "      <td>4</td>\n",
       "    </tr>\n",
       "    <tr>\n",
       "      <th>qa</th>\n",
       "      <td>3</td>\n",
       "    </tr>\n",
       "    <tr>\n",
       "      <th>qa_stock</th>\n",
       "      <td>3</td>\n",
       "    </tr>\n",
       "    <tr>\n",
       "      <th>get_physical_card</th>\n",
       "      <td>3</td>\n",
       "    </tr>\n",
       "    <tr>\n",
       "      <th>play_radio</th>\n",
       "      <td>2</td>\n",
       "    </tr>\n",
       "    <tr>\n",
       "      <th>transport</th>\n",
       "      <td>2</td>\n",
       "    </tr>\n",
       "    <tr>\n",
       "      <th>transport_query</th>\n",
       "      <td>2</td>\n",
       "    </tr>\n",
       "    <tr>\n",
       "      <th>recommendation</th>\n",
       "      <td>2</td>\n",
       "    </tr>\n",
       "    <tr>\n",
       "      <th>recommendation_movies</th>\n",
       "      <td>1</td>\n",
       "    </tr>\n",
       "    <tr>\n",
       "      <th>play_audiobook</th>\n",
       "      <td>1</td>\n",
       "    </tr>\n",
       "    <tr>\n",
       "      <th>recommendation_locations</th>\n",
       "      <td>1</td>\n",
       "    </tr>\n",
       "  </tbody>\n",
       "</table>\n",
       "</div>"
      ],
      "text/plain": [
       "                                                  count\n",
       "label_text                                             \n",
       "not toxic                                          1842\n",
       "iot                                                 374\n",
       "play                                                291\n",
       "play_music                                          288\n",
       "weather                                             260\n",
       "weather_query                                       260\n",
       "news_query                                          212\n",
       "news                                                212\n",
       "datetime                                            191\n",
       "alarm                                               167\n",
       "datetime_query                                      167\n",
       "music                                               162\n",
       "toxic                                               158\n",
       "audio                                               143\n",
       "takeaway                                            127\n",
       "balance_not_updated_after_cheque_or_cash_deposit     94\n",
       "wrong_amount_of_cash_received                        85\n",
       "card_payment_wrong_exchange_rate                     84\n",
       "card_payment_fee_charged                             83\n",
       "card_payment_not_recognised                          83\n",
       "extra_charge_on_statement                            81\n",
       "transfer_not_received_by_recipient                   80\n",
       "card_arrival                                         80\n",
       "alarm_set                                            75\n",
       "pending_cash_withdrawal                              74\n",
       "card_linking                                         72\n",
       "pending_top_up                                       72\n",
       "cancel_transfer                                      72\n",
       "music_query                                          72\n",
       "supported_cards_and_currencies                       71\n",
       "iot_hue_lightoff                                     69\n",
       "top_up_reverted                                      68\n",
       "automatic_top_up                                     66\n",
       "iot_hue_lightchange                                  65\n",
       "takeaway_query                                       64\n",
       "pin_blocked                                          63\n",
       "takeaway_order                                       63\n",
       "fiat_currency_support                                62\n",
       "exchange_rate                                        61\n",
       "age_limit                                            60\n",
       "edit_personal_details                                60\n",
       "card_not_working                                     59\n",
       "general                                              59\n",
       "why_verify_identity                                  59\n",
       "audio_volume_up                                      58\n",
       "top_up_by_bank_transfer_charge                       58\n",
       "alarm_query                                          57\n",
       "exchange_via_app                                     56\n",
       "iot_coffee                                           55\n",
       "music_likeness                                       53\n",
       "card_delivery_estimate                               51\n",
       "top_up_limits                                        51\n",
       "unable_to_verify_identity                            50\n",
       "audio_volume_mute                                    50\n",
       "iot_cleaning                                         47\n",
       "iot_hue_lightup                                      44\n",
       "getting_virtual_card                                 41\n",
       "card_acceptance                                      39\n",
       "lost_or_stolen_card                                  39\n",
       "iot_hue_lightdim                                     38\n",
       "alarm_remove                                         35\n",
       "general_joke                                         30\n",
       "music_settings                                       27\n",
       "iot_wemo_off                                         25\n",
       "iot_wemo_on                                          24\n",
       "datetime_convert                                     24\n",
       "audio_volume_down                                    24\n",
       "contactless_not_working                              23\n",
       "general_quirky                                       17\n",
       "general_greet                                        12\n",
       "audio_volume_other                                   11\n",
       "music_dislikeness                                    10\n",
       "iot_hue_lighton                                       7\n",
       "calendar_query                                        4\n",
       "calendar                                              4\n",
       "qa                                                    3\n",
       "qa_stock                                              3\n",
       "get_physical_card                                     3\n",
       "play_radio                                            2\n",
       "transport                                             2\n",
       "transport_query                                       2\n",
       "recommendation                                        2\n",
       "recommendation_movies                                 1\n",
       "play_audiobook                                        1\n",
       "recommendation_locations                              1"
      ]
     },
     "execution_count": 7,
     "metadata": {},
     "output_type": "execute_result"
    }
   ],
   "source": [
    "pd.set_option('display.max_rows', 500)\n",
    "pd.DataFrame(train_csv1.label_text.value_counts())"
   ]
  },
  {
   "cell_type": "code",
   "execution_count": 8,
   "id": "3aedb4a5-c702-4894-8b94-365cf10f00fa",
   "metadata": {},
   "outputs": [],
   "source": [
    "# these are all the category labels in the training set\n",
    "category_labels = train_csv1.label_text.unique()"
   ]
  },
  {
   "cell_type": "markdown",
   "id": "58b65387-7028-4d11-9efb-2c2129870c7b",
   "metadata": {},
   "source": [
    "\n",
    "def convert_to_gpt35_format_test(dataset):\n",
    "    fine_tuning_data = []\n",
    "    for _, row in dataset.iterrows():\n",
    "        json_response = '{\"label_text\": \"' + row['label_text'] + '\"}'\n",
    "        fine_tuning_data.append({\n",
    "            \"messages\": [\n",
    "                {\"role\": \"user\", \"content\": row['text']},\n",
    "                {\"role\": \"assistant\", \"content\": json_response}\n",
    "            ]\n",
    "        })\n",
    "    return fine_tuning_data"
   ]
  },
  {
   "cell_type": "code",
   "execution_count": 9,
   "id": "982c7ca7-08c5-46ba-9532-4d4ef028bad4",
   "metadata": {},
   "outputs": [
    {
     "data": {
      "text/plain": [
       "[{'role': 'user',\n",
       "  'content': 'I already made a transfer and want to cancel it, how do I do that?'},\n",
       " {'role': 'assistant', 'content': '{\"label_text\": \"cancel_transfer\"}'}]"
      ]
     },
     "execution_count": 9,
     "metadata": {},
     "output_type": "execute_result"
    }
   ],
   "source": [
    "def convert_to_gpt35_format(dataset):\n",
    "    fine_tuning_data = []\n",
    "    for _, row in dataset.iterrows():\n",
    "        json_response = '{\"label_text\": \"' + row['label_text'] + '\"}'\n",
    "        fine_tuning_data.append({\n",
    "            \"messages\": [\n",
    "                {\"role\": \"user\", \"content\": row['text']},\n",
    "                {\"role\": \"assistant\", \"content\": json_response}\n",
    "            ]\n",
    "        })\n",
    "    return fine_tuning_data\n",
    "\n",
    "\n",
    "#'train_data = train_csv\n",
    "#'test_data = test_csv\n",
    "converted_data= convert_to_gpt35_format(train_csv1)\n",
    "#test_data = convert_to_gpt35_format(test_csv)\n",
    "converted_data[0]['messages']\n",
    "#test_data[0]['messages']\n",
    "    "
   ]
  },
  {
   "cell_type": "code",
   "execution_count": 10,
   "id": "62c6e85b-bb18-4e19-91fd-aff9c44d656f",
   "metadata": {},
   "outputs": [
    {
     "data": {
      "text/plain": [
       "{'label_text': 'cancel_transfer'}"
      ]
     },
     "execution_count": 10,
     "metadata": {},
     "output_type": "execute_result"
    }
   ],
   "source": [
    "json.loads(converted_data[0]['messages'][-1]['content'])"
   ]
  },
  {
   "cell_type": "code",
   "execution_count": 11,
   "id": "ed379feb-26a8-42c8-8c71-b83b4fe63315",
   "metadata": {},
   "outputs": [],
   "source": [
    "from sklearn.model_selection import train_test_split\n",
    "\n",
    "# Stratified splitting. Assuming 'Top Category' can be used for stratification\n",
    "train_data, val_data = train_test_split(\n",
    "    converted_data,\n",
    "    test_size=0.01,\n",
    "    random_state=42  # for reproducibility\n",
    ")"
   ]
  },
  {
   "cell_type": "code",
   "execution_count": 12,
   "id": "132394aa-4875-491b-9e07-8cf63b07c809",
   "metadata": {},
   "outputs": [
    {
     "data": {
      "text/plain": [
       "{'messages': [{'role': 'user',\n",
       "   'content': 'how many hours difference is hong kong from new york city'},\n",
       "  {'role': 'assistant', 'content': '{\"label_text\": \"datetime\"}'}]}"
      ]
     },
     "execution_count": 12,
     "metadata": {},
     "output_type": "execute_result"
    }
   ],
   "source": [
    "train_data[0]\n"
   ]
  },
  {
   "cell_type": "code",
   "execution_count": 13,
   "id": "c815e5d1-2168-4325-b027-b85428ecc32d",
   "metadata": {},
   "outputs": [
    {
     "data": {
      "text/plain": [
       "{'messages': [{'role': 'user', 'content': 'start the radio now on low volume'},\n",
       "  {'role': 'assistant', 'content': '{\"label_text\": \"audio_volume_down\"}'}]}"
      ]
     },
     "execution_count": 13,
     "metadata": {},
     "output_type": "execute_result"
    }
   ],
   "source": [
    "val_data[0]"
   ]
  },
  {
   "cell_type": "markdown",
   "id": "9de20957-4c7c-4e93-aba3-daabeb7d36dd",
   "metadata": {},
   "source": [
    "Create JSON file"
   ]
  },
  {
   "cell_type": "code",
   "execution_count": 14,
   "id": "29f5cc58-52c0-42be-b350-ff9b435d6ebd",
   "metadata": {},
   "outputs": [],
   "source": [
    "def write_to_jsonl(data, file_path):\n",
    "    with open(file_path, 'w') as file:\n",
    "        for entry in data:\n",
    "            json.dump(entry, file)\n",
    "            file.write('\\n')\n",
    "\n",
    "training_file_name = \"train.jsonl\"\n",
    "validation_file_name = \"val.jsonl\"\n",
    "\n",
    "write_to_jsonl(train_data, training_file_name)\n",
    "write_to_jsonl(val_data, validation_file_name)"
   ]
  },
  {
   "cell_type": "code",
   "execution_count": 15,
   "id": "71287269-d64f-4ffa-abda-3807d7502b28",
   "metadata": {},
   "outputs": [
    {
     "data": {
      "text/plain": [
       "dict"
      ]
     },
     "execution_count": 15,
     "metadata": {},
     "output_type": "execute_result"
    }
   ],
   "source": [
    "type(train_data[0])"
   ]
  },
  {
   "cell_type": "code",
   "execution_count": 16,
   "id": "b963c94f-18d2-4bce-bad4-bfbdee857431",
   "metadata": {},
   "outputs": [
    {
     "data": {
      "text/plain": [
       "dict"
      ]
     },
     "execution_count": 16,
     "metadata": {},
     "output_type": "execute_result"
    }
   ],
   "source": [
    "type(val_data[0])"
   ]
  },
  {
   "cell_type": "code",
   "execution_count": 17,
   "id": "06ac3019-9f95-43e1-8730-440513f0fa53",
   "metadata": {},
   "outputs": [],
   "source": [
    "from openai import OpenAI\n",
    "client = OpenAI(api_key=\"Open-AI-API-Key\")"
   ]
  },
  {
   "cell_type": "code",
   "execution_count": 18,
   "id": "b2452c2a-16b3-4a15-92c3-978a1cc2354e",
   "metadata": {},
   "outputs": [],
   "source": [
    "# Upload Training and Validation Files\n",
    "training_file = client.files.create(\n",
    "    file=open(training_file_name, \"rb\"), purpose=\"fine-tune\"\n",
    ")\n",
    "validation_file = client.files.create(\n",
    "    file=open(validation_file_name, \"rb\"), purpose=\"fine-tune\"\n",
    ")\n"
   ]
  },
  {
   "cell_type": "code",
   "execution_count": 19,
   "id": "82c0f480-484b-47b9-8885-cc8affd26179",
   "metadata": {},
   "outputs": [
    {
     "name": "stdout",
     "output_type": "stream",
     "text": [
      "training file id: file-CQprW4xUq7MCL3zYCN9KbLbO\n",
      "validation file id: file-9VryKclwPUdWqQM9JuxXbbZu\n"
     ]
    }
   ],
   "source": [
    "print(\"training file id:\", training_file.id)\n",
    "print(\"validation file id:\", validation_file.id)"
   ]
  },
  {
   "cell_type": "markdown",
   "id": "c9e425e7-63b3-440b-b35d-2a78e1311d8b",
   "metadata": {},
   "source": [
    "create finetuning job"
   ]
  },
  {
   "cell_type": "code",
   "execution_count": 22,
   "id": "45e28709-9c23-4bd0-a48a-212b4b83271e",
   "metadata": {},
   "outputs": [
    {
     "data": {
      "text/plain": [
       "FineTuningJob(id='ftjob-BbZUnDMQKtjUqZm513z1dEXG', created_at=1716680439, error=Error(code=None, message=None, param=None), fine_tuned_model=None, finished_at=None, hyperparameters=Hyperparameters(n_epochs='auto', batch_size='auto', learning_rate_multiplier='auto'), model='gpt-3.5-turbo-0125', object='fine_tuning.job', organization_id='org-fbKWUsxYuiRZV9Gwt9qNFmKm', result_files=[], seed=385631930, status='validating_files', trained_tokens=None, training_file='file-CQprW4xUq7MCL3zYCN9KbLbO', validation_file='file-9VryKclwPUdWqQM9JuxXbbZu', estimated_finish=None, integrations=[], user_provided_suffix='xyz')"
      ]
     },
     "execution_count": 22,
     "metadata": {},
     "output_type": "execute_result"
    }
   ],
   "source": [
    "suffix_name = \"xyz\"\n",
    "\n",
    "response = client.fine_tuning.jobs.create(\n",
    "    training_file=training_file.id,\n",
    "    validation_file=validation_file.id,\n",
    "    model=\"gpt-3.5-turbo\",\n",
    "    suffix=suffix_name,\n",
    ")\n",
    "response"
   ]
  },
  {
   "cell_type": "code",
   "execution_count": 23,
   "id": "536d1f97-be9b-4beb-89d5-762e1fafdc44",
   "metadata": {},
   "outputs": [
    {
     "data": {
      "text/plain": [
       "SyncCursorPage[FineTuningJob](data=[FineTuningJob(id='ftjob-BbZUnDMQKtjUqZm513z1dEXG', created_at=1716680439, error=Error(code=None, message=None, param=None), fine_tuned_model=None, finished_at=None, hyperparameters=Hyperparameters(n_epochs=3, batch_size=15, learning_rate_multiplier=2), model='gpt-3.5-turbo-0125', object='fine_tuning.job', organization_id='org-fbKWUsxYuiRZV9Gwt9qNFmKm', result_files=[], seed=385631930, status='validating_files', trained_tokens=None, training_file='file-CQprW4xUq7MCL3zYCN9KbLbO', validation_file='file-9VryKclwPUdWqQM9JuxXbbZu', estimated_finish=None, integrations=[], user_provided_suffix='xyz'), FineTuningJob(id='ftjob-xCj4f83NVYyYN9wuFK2YSlMj', created_at=1716680400, error=Error(code=None, message=None, param=None), fine_tuned_model=None, finished_at=None, hyperparameters=Hyperparameters(n_epochs=3, batch_size=15, learning_rate_multiplier=2), model='gpt-3.5-turbo-0125', object='fine_tuning.job', organization_id='org-fbKWUsxYuiRZV9Gwt9qNFmKm', result_files=[], seed=2000307588, status='validating_files', trained_tokens=None, training_file='file-CQprW4xUq7MCL3zYCN9KbLbO', validation_file='file-9VryKclwPUdWqQM9JuxXbbZu', estimated_finish=None, integrations=[], user_provided_suffix='xyz'), FineTuningJob(id='ftjob-QcloZ6XTIvjqWGRnxeqgUyQ9', created_at=1714782126, error=Error(code=None, message=None, param=None), fine_tuned_model='ft:gpt-3.5-turbo-0125:symbiosis:abc:9KyDHbId', finished_at=1714785046, hyperparameters=Hyperparameters(n_epochs=3, batch_size=12, learning_rate_multiplier=2), model='gpt-3.5-turbo-0125', object='fine_tuning.job', organization_id='org-fbKWUsxYuiRZV9Gwt9qNFmKm', result_files=['file-Uwkhe8eU6opap75GrI1uc8eG'], seed=637086079, status='succeeded', trained_tokens=779262, training_file='file-9EpAfO9WyroXOJ9MTj3ji23b', validation_file='file-IpCRhOCnFLexHo6TVs7PWFSL', estimated_finish=None, integrations=[], user_provided_suffix='abc'), FineTuningJob(id='ftjob-ioNtKEH2T345mTH3baRNNcyd', created_at=1714781385, error=Error(code=None, message=None, param=None), fine_tuned_model='ft:gpt-3.5-turbo-0125:symbiosis:abc:9KxzWTLu', finished_at=1714784193, hyperparameters=Hyperparameters(n_epochs=3, batch_size=12, learning_rate_multiplier=2), model='gpt-3.5-turbo-0125', object='fine_tuning.job', organization_id='org-fbKWUsxYuiRZV9Gwt9qNFmKm', result_files=['file-JROWTVGu3T3rztNayFC2Ehvi'], seed=895585124, status='succeeded', trained_tokens=779262, training_file='file-9EpAfO9WyroXOJ9MTj3ji23b', validation_file='file-IpCRhOCnFLexHo6TVs7PWFSL', estimated_finish=None, integrations=[], user_provided_suffix='abc'), FineTuningJob(id='ftjob-V1mqbjkNT9Fg7gXflhO9vSjj', created_at=1714780697, error=Error(code=None, message=None, param=None), fine_tuned_model='ft:gpt-3.5-turbo-0125:symbiosis:abc:9KxxNAOd', finished_at=1714784060, hyperparameters=Hyperparameters(n_epochs=3, batch_size=12, learning_rate_multiplier=2), model='gpt-3.5-turbo-0125', object='fine_tuning.job', organization_id='org-fbKWUsxYuiRZV9Gwt9qNFmKm', result_files=['file-4Mdkj8k9Z0NkpNBLoxIaZfnn'], seed=1970666179, status='succeeded', trained_tokens=779262, training_file='file-9EpAfO9WyroXOJ9MTj3ji23b', validation_file='file-IpCRhOCnFLexHo6TVs7PWFSL', estimated_finish=None, integrations=[], user_provided_suffix='abc'), FineTuningJob(id='ftjob-L3MzxL6PV5fk602kD1gusMkq', created_at=1714776646, error=Error(code='invalid_validation_file', message='Expected file to have JSONL format, where every line is a valid JSON dictionary. Line 1 is not a dictionary.', param='validation_file'), fine_tuned_model=None, finished_at=None, hyperparameters=Hyperparameters(n_epochs='auto', batch_size='auto', learning_rate_multiplier='auto'), model='gpt-3.5-turbo-0125', object='fine_tuning.job', organization_id='org-fbKWUsxYuiRZV9Gwt9qNFmKm', result_files=[], seed=94471279, status='failed', trained_tokens=None, training_file='file-JJX9dy7JeOQFZe6UIfajhwSR', validation_file='file-lFkPx0V3cq1dX6Gd97ySaSH7', estimated_finish=None, integrations=[], user_provided_suffix='abc')], object='list', has_more=False)"
      ]
     },
     "execution_count": 23,
     "metadata": {},
     "output_type": "execute_result"
    }
   ],
   "source": [
    "client.fine_tuning.jobs.list(limit=10)"
   ]
  },
  {
   "cell_type": "code",
   "execution_count": 24,
   "id": "bb0d943f-ed63-444b-8b99-38755873de9c",
   "metadata": {},
   "outputs": [],
   "source": [
    "response = client.fine_tuning.jobs.retrieve(\"ftjob-V1mqbjkNT9Fg7gXflhO9vSjj\")"
   ]
  },
  {
   "cell_type": "code",
   "execution_count": 25,
   "id": "06c1fec8-854f-4c4d-bdd0-2652b542e9b9",
   "metadata": {},
   "outputs": [
    {
     "data": {
      "text/plain": [
       "FineTuningJob(id='ftjob-V1mqbjkNT9Fg7gXflhO9vSjj', created_at=1714780697, error=Error(code=None, message=None, param=None), fine_tuned_model='ft:gpt-3.5-turbo-0125:symbiosis:abc:9KxxNAOd', finished_at=1714784060, hyperparameters=Hyperparameters(n_epochs=3, batch_size=12, learning_rate_multiplier=2), model='gpt-3.5-turbo-0125', object='fine_tuning.job', organization_id='org-fbKWUsxYuiRZV9Gwt9qNFmKm', result_files=['file-4Mdkj8k9Z0NkpNBLoxIaZfnn'], seed=1970666179, status='succeeded', trained_tokens=779262, training_file='file-9EpAfO9WyroXOJ9MTj3ji23b', validation_file='file-IpCRhOCnFLexHo6TVs7PWFSL', estimated_finish=None, integrations=[], user_provided_suffix='abc')"
      ]
     },
     "execution_count": 25,
     "metadata": {},
     "output_type": "execute_result"
    }
   ],
   "source": [
    "response"
   ]
  },
  {
   "cell_type": "code",
   "execution_count": 26,
   "id": "f0cef60f-6309-475a-9a7c-d80f5c5fcec3",
   "metadata": {},
   "outputs": [],
   "source": [
    "fine_tuned_model_id = response.fine_tuned_model"
   ]
  },
  {
   "cell_type": "code",
   "execution_count": 27,
   "id": "ff8b2f86-5088-4e08-a491-9a96f1b72d8b",
   "metadata": {},
   "outputs": [],
   "source": [
    "from sklearn.metrics import accuracy_score, precision_score, recall_score, f1_score\n",
    "\n",
    "def format_test(row):\n",
    "    formatted_message = [{\"role\": \"user\", \"content\": row['text']}]\n",
    "    return formatted_message\n",
    "\n",
    "def predict(test_messages, fine_tuned_model_id):\n",
    "    response = client.chat.completions.create(\n",
    "        model=fine_tuned_model_id, messages=test_messages, temperature=0, max_tokens=50\n",
    "    )\n",
    "    return response.choices[0].message.content\n",
    "\n",
    "def store_predictions(test_df, fine_tuned_model_id):\n",
    "    test_df['Prediction'] = None\n",
    "    for index, row in test_df.iterrows():\n",
    "        test_message = format_test(row)\n",
    "        prediction_result = predict(test_message, fine_tuned_model_id)\n",
    "        test_df.at[index, 'Prediction'] = prediction_result\n",
    "\n",
    "    test_df.to_csv(\"predictions.csv\")\n"
   ]
  },
  {
   "cell_type": "code",
   "execution_count": 28,
   "id": "60ceaead-7098-41a4-9726-311a4706688f",
   "metadata": {},
   "outputs": [],
   "source": [
    "#test_df = pd.read_csv(\"test.csv\")\n",
    "#store_predictions(test_df, fine_tuned_model_id)"
   ]
  },
  {
   "cell_type": "code",
   "execution_count": 29,
   "id": "58344ca7-f989-44ac-b2a1-47f68bf112e4",
   "metadata": {},
   "outputs": [],
   "source": [
    "# test_df.head(20)"
   ]
  },
  {
   "cell_type": "code",
   "execution_count": 30,
   "id": "bef8291f-36bb-480d-bfb2-5899de12e52a",
   "metadata": {},
   "outputs": [
    {
     "data": {
      "text/html": [
       "<div>\n",
       "<style scoped>\n",
       "    .dataframe tbody tr th:only-of-type {\n",
       "        vertical-align: middle;\n",
       "    }\n",
       "\n",
       "    .dataframe tbody tr th {\n",
       "        vertical-align: top;\n",
       "    }\n",
       "\n",
       "    .dataframe thead th {\n",
       "        text-align: right;\n",
       "    }\n",
       "</style>\n",
       "<table border=\"1\" class=\"dataframe\">\n",
       "  <thead>\n",
       "    <tr style=\"text-align: right;\">\n",
       "      <th></th>\n",
       "      <th>id</th>\n",
       "      <th>text</th>\n",
       "    </tr>\n",
       "  </thead>\n",
       "  <tbody>\n",
       "    <tr>\n",
       "      <th>0</th>\n",
       "      <td>1</td>\n",
       "      <td>i don't want any alarms</td>\n",
       "    </tr>\n",
       "    <tr>\n",
       "      <th>1</th>\n",
       "      <td>2</td>\n",
       "      <td>remove new year from calendar</td>\n",
       "    </tr>\n",
       "    <tr>\n",
       "      <th>2</th>\n",
       "      <td>3</td>\n",
       "      <td>I noticed an extra $1 charge on my statement, ...</td>\n",
       "    </tr>\n",
       "    <tr>\n",
       "      <th>3</th>\n",
       "      <td>4</td>\n",
       "      <td>Help!  I can't find my card.</td>\n",
       "    </tr>\n",
       "    <tr>\n",
       "      <th>4</th>\n",
       "      <td>5</td>\n",
       "      <td>Can I open an account for a child?</td>\n",
       "    </tr>\n",
       "  </tbody>\n",
       "</table>\n",
       "</div>"
      ],
      "text/plain": [
       "   id                                               text\n",
       "0   1                            i don't want any alarms\n",
       "1   2                      remove new year from calendar\n",
       "2   3  I noticed an extra $1 charge on my statement, ...\n",
       "3   4                       Help!  I can't find my card.\n",
       "4   5                 Can I open an account for a child?"
      ]
     },
     "execution_count": 30,
     "metadata": {},
     "output_type": "execute_result"
    }
   ],
   "source": [
    "test_csv = pd.read_csv('../data/test.csv')\n",
    "test_csv.head(5)"
   ]
  },
  {
   "cell_type": "code",
   "execution_count": 31,
   "id": "4d796866-78a4-4f91-bd72-1eea6c954782",
   "metadata": {},
   "outputs": [
    {
     "data": {
      "text/plain": [
       "(4000, 2)"
      ]
     },
     "execution_count": 31,
     "metadata": {},
     "output_type": "execute_result"
    }
   ],
   "source": [
    "test_csv.shape"
   ]
  },
  {
   "cell_type": "code",
   "execution_count": 32,
   "id": "47b18bfa-971a-45f1-bdf5-6625ced69acd",
   "metadata": {},
   "outputs": [
    {
     "data": {
      "text/html": [
       "<div>\n",
       "<style scoped>\n",
       "    .dataframe tbody tr th:only-of-type {\n",
       "        vertical-align: middle;\n",
       "    }\n",
       "\n",
       "    .dataframe tbody tr th {\n",
       "        vertical-align: top;\n",
       "    }\n",
       "\n",
       "    .dataframe thead th {\n",
       "        text-align: right;\n",
       "    }\n",
       "</style>\n",
       "<table border=\"1\" class=\"dataframe\">\n",
       "  <thead>\n",
       "    <tr style=\"text-align: right;\">\n",
       "      <th></th>\n",
       "      <th>id</th>\n",
       "      <th>text</th>\n",
       "    </tr>\n",
       "  </thead>\n",
       "  <tbody>\n",
       "    <tr>\n",
       "      <th>0</th>\n",
       "      <td>1</td>\n",
       "      <td>i don't want any alarms</td>\n",
       "    </tr>\n",
       "    <tr>\n",
       "      <th>1</th>\n",
       "      <td>2</td>\n",
       "      <td>remove new year from calendar</td>\n",
       "    </tr>\n",
       "    <tr>\n",
       "      <th>2</th>\n",
       "      <td>3</td>\n",
       "      <td>I noticed an extra $1 charge on my statement, ...</td>\n",
       "    </tr>\n",
       "    <tr>\n",
       "      <th>3</th>\n",
       "      <td>4</td>\n",
       "      <td>Help!  I can't find my card.</td>\n",
       "    </tr>\n",
       "    <tr>\n",
       "      <th>4</th>\n",
       "      <td>5</td>\n",
       "      <td>Can I open an account for a child?</td>\n",
       "    </tr>\n",
       "  </tbody>\n",
       "</table>\n",
       "</div>"
      ],
      "text/plain": [
       "   id                                               text\n",
       "0   1                            i don't want any alarms\n",
       "1   2                      remove new year from calendar\n",
       "2   3  I noticed an extra $1 charge on my statement, ...\n",
       "3   4                       Help!  I can't find my card.\n",
       "4   5                 Can I open an account for a child?"
      ]
     },
     "execution_count": 32,
     "metadata": {},
     "output_type": "execute_result"
    }
   ],
   "source": [
    "test_df= test_csv\n",
    "test_df.head(5)"
   ]
  },
  {
   "cell_type": "code",
   "execution_count": 33,
   "id": "381e557e-4af2-48e6-b190-5b2fce7482a0",
   "metadata": {},
   "outputs": [],
   "source": [
    "store_predictions(test_df, fine_tuned_model_id)"
   ]
  },
  {
   "cell_type": "code",
   "execution_count": 34,
   "id": "6f2870ff-43fa-4f26-8ffb-2cc085e7c2f5",
   "metadata": {},
   "outputs": [
    {
     "ename": "NameError",
     "evalue": "name 'test_df1' is not defined",
     "output_type": "error",
     "traceback": [
      "\u001b[0;31m---------------------------------------------------------------------------\u001b[0m",
      "\u001b[0;31mNameError\u001b[0m                                 Traceback (most recent call last)",
      "Cell \u001b[0;32mIn[34], line 1\u001b[0m\n\u001b[0;32m----> 1\u001b[0m \u001b[43mtest_df1\u001b[49m\u001b[38;5;241m.\u001b[39mhead(\u001b[38;5;241m5\u001b[39m)\n",
      "\u001b[0;31mNameError\u001b[0m: name 'test_df1' is not defined"
     ]
    }
   ],
   "source": [
    "test_df1.head(5)"
   ]
  },
  {
   "cell_type": "code",
   "execution_count": null,
   "id": "7bc536cc-2baf-4bc2-a377-4990d05e2cb2",
   "metadata": {},
   "outputs": [],
   "source": [
    "test_df.shape"
   ]
  },
  {
   "cell_type": "code",
   "execution_count": null,
   "id": "910ebcd5-fd23-48e3-8c7b-69d54befefaf",
   "metadata": {},
   "outputs": [],
   "source": [
    "test_df.head(5)\n"
   ]
  },
  {
   "cell_type": "code",
   "execution_count": null,
   "id": "ce9986eb-79e5-4324-8ed3-7071da4306b5",
   "metadata": {},
   "outputs": [],
   "source": [
    "test_df.head(20)"
   ]
  },
  {
   "cell_type": "code",
   "execution_count": null,
   "id": "9e2ede83-a048-444a-acb9-1a0a7f4757ab",
   "metadata": {},
   "outputs": [],
   "source": [
    "# Save the results to a CSV file in required format\n",
    "test_df.rename(columns={'Prediction':'label_text'},inplace=True)\n",
    "submission = test_df[['id','label_text']]\n",
    "submission.to_csv('submission_1.csv',index=False)"
   ]
  },
  {
   "cell_type": "code",
   "execution_count": null,
   "id": "fcf0bd87-0ef9-43bc-9957-25974d099601",
   "metadata": {},
   "outputs": [],
   "source": [
    "submission"
   ]
  },
  {
   "cell_type": "code",
   "execution_count": null,
   "id": "cbaa8c77-87a5-4a8d-ab9f-b64de2cdbe5d",
   "metadata": {},
   "outputs": [],
   "source": [
    "x = pd.read_csv(\"submission_1.csv\")"
   ]
  },
  {
   "cell_type": "code",
   "execution_count": null,
   "id": "ed3f4863-4750-4035-a438-26c0f1100d4b",
   "metadata": {},
   "outputs": [],
   "source": [
    "x.head()"
   ]
  },
  {
   "cell_type": "code",
   "execution_count": null,
   "id": "38c535fe-4dc7-4076-9080-047cced68a03",
   "metadata": {},
   "outputs": [],
   "source": [
    "x.info()\n"
   ]
  },
  {
   "cell_type": "code",
   "execution_count": null,
   "id": "0be2625b-ef07-41b6-b693-7bccea1e8718",
   "metadata": {},
   "outputs": [],
   "source": [
    "# x.replace({'\"label_text\": ','' ,})\n",
    "\n"
   ]
  },
  {
   "cell_type": "code",
   "execution_count": null,
   "id": "ea5929c3-653f-4a5b-80da-bd93b2e2580c",
   "metadata": {},
   "outputs": [],
   "source": [
    "x = x.label_text.replace({'{\"label_text\": \"':''}, regex=True)"
   ]
  },
  {
   "cell_type": "code",
   "execution_count": null,
   "id": "ad9549f0-0067-4fda-b515-6eb853f40cbd",
   "metadata": {},
   "outputs": [],
   "source": [
    "type(x)\n"
   ]
  },
  {
   "cell_type": "code",
   "execution_count": null,
   "id": "d8fa80a4-2c1b-4e5e-841e-32c3ad874f94",
   "metadata": {},
   "outputs": [],
   "source": [
    "x.head()\n"
   ]
  },
  {
   "cell_type": "code",
   "execution_count": null,
   "id": "e0868ff3-7478-46fb-8c8e-41ccb9b2fe26",
   "metadata": {},
   "outputs": [],
   "source": []
  }
 ],
 "metadata": {
  "kernelspec": {
   "display_name": "Python 3 (ipykernel)",
   "language": "python",
   "name": "python3"
  },
  "language_info": {
   "codemirror_mode": {
    "name": "ipython",
    "version": 3
   },
   "file_extension": ".py",
   "mimetype": "text/x-python",
   "name": "python",
   "nbconvert_exporter": "python",
   "pygments_lexer": "ipython3",
   "version": "3.10.10"
  }
 },
 "nbformat": 4,
 "nbformat_minor": 5
}
